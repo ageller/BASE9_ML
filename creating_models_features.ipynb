{
 "cells": [
  {
   "cell_type": "markdown",
   "metadata": {},
   "source": [
    "# This notebook creates a dataframe containing features and runs that df through a model created using a random forest classifier"
   ]
  },
  {
   "cell_type": "markdown",
   "metadata": {},
   "source": []
  },
  {
   "cell_type": "markdown",
   "metadata": {},
   "source": [
    "# imports all functions saved in create_model.py file"
   ]
  },
  {
   "cell_type": "code",
   "execution_count": 12,
   "metadata": {},
   "outputs": [
    {
     "name": "stdout",
     "output_type": "stream",
     "text": [
      "The autoreload extension is already loaded. To reload it, use:\n",
      "  %reload_ext autoreload\n"
     ]
    }
   ],
   "source": [
    "from create_model import *\n",
    "%load_ext autoreload\n",
    "%autoreload 2\n",
    "#importing functions from .py file"
   ]
  },
  {
   "cell_type": "markdown",
   "metadata": {},
   "source": [
    "# Reads in res files from computer directory and creates the features df using the create_features function"
   ]
  },
  {
   "cell_type": "code",
   "execution_count": 15,
   "metadata": {},
   "outputs": [
    {
     "data": {
      "text/html": [
       "<div>\n",
       "<style scoped>\n",
       "    .dataframe tbody tr th:only-of-type {\n",
       "        vertical-align: middle;\n",
       "    }\n",
       "\n",
       "    .dataframe tbody tr th {\n",
       "        vertical-align: top;\n",
       "    }\n",
       "\n",
       "    .dataframe thead th {\n",
       "        text-align: right;\n",
       "    }\n",
       "</style>\n",
       "<table border=\"1\" class=\"dataframe\">\n",
       "  <thead>\n",
       "    <tr style=\"text-align: right;\">\n",
       "      <th></th>\n",
       "      <th>source_id</th>\n",
       "      <th>Width</th>\n",
       "      <th>Upper_bound</th>\n",
       "      <th>Lower_bound</th>\n",
       "      <th>Stdev</th>\n",
       "      <th>SnR</th>\n",
       "      <th>Dip_p</th>\n",
       "      <th>Dip_value</th>\n",
       "      <th>KS_value</th>\n",
       "      <th>KS_p</th>\n",
       "      <th>ESS</th>\n",
       "    </tr>\n",
       "  </thead>\n",
       "  <tbody>\n",
       "    <tr>\n",
       "      <th>0</th>\n",
       "      <td>605002016872204416</td>\n",
       "      <td>1.361236</td>\n",
       "      <td>0.557799</td>\n",
       "      <td>0.967022</td>\n",
       "      <td>0.658567</td>\n",
       "      <td>14.214572</td>\n",
       "      <td>0.000000</td>\n",
       "      <td>0.017193</td>\n",
       "      <td>0.215663</td>\n",
       "      <td>1.261772e-254</td>\n",
       "      <td>9871.800292</td>\n",
       "    </tr>\n",
       "    <tr>\n",
       "      <th>1</th>\n",
       "      <td>604942879467199360</td>\n",
       "      <td>1.352529</td>\n",
       "      <td>0.557799</td>\n",
       "      <td>0.967022</td>\n",
       "      <td>0.610061</td>\n",
       "      <td>15.058561</td>\n",
       "      <td>0.000000</td>\n",
       "      <td>0.019429</td>\n",
       "      <td>0.156132</td>\n",
       "      <td>8.396524e-130</td>\n",
       "      <td>9777.400350</td>\n",
       "    </tr>\n",
       "    <tr>\n",
       "      <th>2</th>\n",
       "      <td>604969031523465728</td>\n",
       "      <td>0.387865</td>\n",
       "      <td>0.557799</td>\n",
       "      <td>0.967022</td>\n",
       "      <td>0.263017</td>\n",
       "      <td>36.229304</td>\n",
       "      <td>0.000000</td>\n",
       "      <td>0.012712</td>\n",
       "      <td>0.151325</td>\n",
       "      <td>6.419390e-125</td>\n",
       "      <td>10318.960160</td>\n",
       "    </tr>\n",
       "    <tr>\n",
       "      <th>3</th>\n",
       "      <td>604921679508385664</td>\n",
       "      <td>1.676418</td>\n",
       "      <td>0.557799</td>\n",
       "      <td>0.967022</td>\n",
       "      <td>0.744099</td>\n",
       "      <td>12.044454</td>\n",
       "      <td>0.000001</td>\n",
       "      <td>0.008560</td>\n",
       "      <td>0.138785</td>\n",
       "      <td>3.223772e-104</td>\n",
       "      <td>10211.947294</td>\n",
       "    </tr>\n",
       "    <tr>\n",
       "      <th>4</th>\n",
       "      <td>604968958508607360</td>\n",
       "      <td>1.262185</td>\n",
       "      <td>0.557799</td>\n",
       "      <td>0.967022</td>\n",
       "      <td>0.600071</td>\n",
       "      <td>15.298958</td>\n",
       "      <td>0.000000</td>\n",
       "      <td>0.014429</td>\n",
       "      <td>0.129793</td>\n",
       "      <td>5.938364e-89</td>\n",
       "      <td>9870.086049</td>\n",
       "    </tr>\n",
       "    <tr>\n",
       "      <th>...</th>\n",
       "      <td>...</td>\n",
       "      <td>...</td>\n",
       "      <td>...</td>\n",
       "      <td>...</td>\n",
       "      <td>...</td>\n",
       "      <td>...</td>\n",
       "      <td>...</td>\n",
       "      <td>...</td>\n",
       "      <td>...</td>\n",
       "      <td>...</td>\n",
       "      <td>...</td>\n",
       "    </tr>\n",
       "    <tr>\n",
       "      <th>1423</th>\n",
       "      <td>604994045412975744</td>\n",
       "      <td>0.770949</td>\n",
       "      <td>0.557799</td>\n",
       "      <td>0.967022</td>\n",
       "      <td>0.473367</td>\n",
       "      <td>19.784625</td>\n",
       "      <td>0.000000</td>\n",
       "      <td>0.009089</td>\n",
       "      <td>0.169878</td>\n",
       "      <td>5.337262e-155</td>\n",
       "      <td>10037.618040</td>\n",
       "    </tr>\n",
       "    <tr>\n",
       "      <th>1424</th>\n",
       "      <td>604921924322164608</td>\n",
       "      <td>0.167193</td>\n",
       "      <td>0.557799</td>\n",
       "      <td>0.967022</td>\n",
       "      <td>0.091203</td>\n",
       "      <td>105.613775</td>\n",
       "      <td>0.000000</td>\n",
       "      <td>0.012850</td>\n",
       "      <td>0.161388</td>\n",
       "      <td>7.552444e-140</td>\n",
       "      <td>9757.369117</td>\n",
       "    </tr>\n",
       "    <tr>\n",
       "      <th>1425</th>\n",
       "      <td>604970062315630336</td>\n",
       "      <td>1.360707</td>\n",
       "      <td>0.557799</td>\n",
       "      <td>0.967022</td>\n",
       "      <td>0.639646</td>\n",
       "      <td>14.251756</td>\n",
       "      <td>0.000000</td>\n",
       "      <td>0.013919</td>\n",
       "      <td>0.150207</td>\n",
       "      <td>3.875808e-119</td>\n",
       "      <td>10061.193143</td>\n",
       "    </tr>\n",
       "    <tr>\n",
       "      <th>1426</th>\n",
       "      <td>598962292125778560</td>\n",
       "      <td>1.532101</td>\n",
       "      <td>0.557799</td>\n",
       "      <td>0.967022</td>\n",
       "      <td>0.686447</td>\n",
       "      <td>13.055923</td>\n",
       "      <td>0.000000</td>\n",
       "      <td>0.020750</td>\n",
       "      <td>0.125267</td>\n",
       "      <td>1.496659e-83</td>\n",
       "      <td>9819.082099</td>\n",
       "    </tr>\n",
       "    <tr>\n",
       "      <th>1427</th>\n",
       "      <td>597810107020313344</td>\n",
       "      <td>1.524821</td>\n",
       "      <td>0.557799</td>\n",
       "      <td>0.967022</td>\n",
       "      <td>0.690170</td>\n",
       "      <td>13.100619</td>\n",
       "      <td>0.000000</td>\n",
       "      <td>0.029765</td>\n",
       "      <td>0.158340</td>\n",
       "      <td>2.054367e-132</td>\n",
       "      <td>10219.006401</td>\n",
       "    </tr>\n",
       "  </tbody>\n",
       "</table>\n",
       "<p>1427 rows × 11 columns</p>\n",
       "</div>"
      ],
      "text/plain": [
       "               source_id     Width  Upper_bound  Lower_bound     Stdev  \\\n",
       "0     605002016872204416  1.361236     0.557799     0.967022  0.658567   \n",
       "1     604942879467199360  1.352529     0.557799     0.967022  0.610061   \n",
       "2     604969031523465728  0.387865     0.557799     0.967022  0.263017   \n",
       "3     604921679508385664  1.676418     0.557799     0.967022  0.744099   \n",
       "4     604968958508607360  1.262185     0.557799     0.967022  0.600071   \n",
       "...                  ...       ...          ...          ...       ...   \n",
       "1423  604994045412975744  0.770949     0.557799     0.967022  0.473367   \n",
       "1424  604921924322164608  0.167193     0.557799     0.967022  0.091203   \n",
       "1425  604970062315630336  1.360707     0.557799     0.967022  0.639646   \n",
       "1426  598962292125778560  1.532101     0.557799     0.967022  0.686447   \n",
       "1427  597810107020313344  1.524821     0.557799     0.967022  0.690170   \n",
       "\n",
       "             SnR     Dip_p  Dip_value  KS_value           KS_p           ESS  \n",
       "0      14.214572  0.000000   0.017193  0.215663  1.261772e-254   9871.800292  \n",
       "1      15.058561  0.000000   0.019429  0.156132  8.396524e-130   9777.400350  \n",
       "2      36.229304  0.000000   0.012712  0.151325  6.419390e-125  10318.960160  \n",
       "3      12.044454  0.000001   0.008560  0.138785  3.223772e-104  10211.947294  \n",
       "4      15.298958  0.000000   0.014429  0.129793   5.938364e-89   9870.086049  \n",
       "...          ...       ...        ...       ...            ...           ...  \n",
       "1423   19.784625  0.000000   0.009089  0.169878  5.337262e-155  10037.618040  \n",
       "1424  105.613775  0.000000   0.012850  0.161388  7.552444e-140   9757.369117  \n",
       "1425   14.251756  0.000000   0.013919  0.150207  3.875808e-119  10061.193143  \n",
       "1426   13.055923  0.000000   0.020750  0.125267   1.496659e-83   9819.082099  \n",
       "1427   13.100619  0.000000   0.029765  0.158340  2.054367e-132  10219.006401  \n",
       "\n",
       "[1427 rows x 11 columns]"
      ]
     },
     "execution_count": 15,
     "metadata": {},
     "output_type": "execute_result"
    }
   ],
   "source": [
    "directory = \"/Users/justycewatson/Desktop/CIERA_files/NGC2682/jw_output\"\n",
    "#computer directory the files will come from\n",
    "\n",
    "model_cluster_statistic = create_features(directory)\n",
    "# creating the data table using 'create_features' function with the directory files\n",
    " \n",
    "model_cluster_statistic"
   ]
  },
  {
   "cell_type": "markdown",
   "metadata": {},
   "source": [
    "# Reads in dataframe containing known sampling quality to train the model on"
   ]
  },
  {
   "cell_type": "code",
   "execution_count": 26,
   "metadata": {},
   "outputs": [],
   "source": [
    "\n",
    "\n",
    "df1 = pd.read_csv('/Users/justycewatson/Desktop/CIERA_files/NGC2682/CSV_Files/NGC2682_Age_Stats.csv',sep=',')\n",
    "sampling_df = df1[df1['Single Sampling'].isna() == False]"
   ]
  },
  {
   "cell_type": "markdown",
   "metadata": {},
   "source": [
    "# Trains the model with equal good and bad classifications"
   ]
  },
  {
   "cell_type": "code",
   "execution_count": 23,
   "metadata": {},
   "outputs": [
    {
     "name": "stdout",
     "output_type": "stream",
     "text": [
      "There are 174 training elements with classification = Bad\n",
      "There are 174 training elements with classification = Good\n"
     ]
    }
   ],
   "source": [
    "pipe, X, y, X_train, y_train, X_test, y_test = create_model(model_cluster_statistic, sampling_df)\n",
    "y_pred = make_preds(pipe, X, y_test=None, \n",
    "    feature_columns=[\n",
    "        \"Width\",\n",
    "        \"Upper_bound\",\n",
    "        \"Lower_bound\",\n",
    "        \"Stdev\",\n",
    "        \"SnR\",\n",
    "        \"Dip_p\",\n",
    "        \"Dip_value\",\n",
    "        \"KS_value\",\n",
    "        \"KS_p\",\n",
    "        \"ESS\"])\n"
   ]
  },
  {
   "cell_type": "markdown",
   "metadata": {},
   "source": [
    "# Saves the model to be applied to different data"
   ]
  },
  {
   "cell_type": "code",
   "execution_count": 24,
   "metadata": {},
   "outputs": [],
   "source": [
    "save_model(pipe, filename=\"my_model.pkl\")"
   ]
  }
 ],
 "metadata": {
  "kernelspec": {
   "display_name": "base",
   "language": "python",
   "name": "python3"
  },
  "language_info": {
   "codemirror_mode": {
    "name": "ipython",
    "version": 3
   },
   "file_extension": ".py",
   "mimetype": "text/x-python",
   "name": "python",
   "nbconvert_exporter": "python",
   "pygments_lexer": "ipython3",
   "version": "3.11.5"
  },
  "orig_nbformat": 4
 },
 "nbformat": 4,
 "nbformat_minor": 2
}
