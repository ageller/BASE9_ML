{
 "cells": [
  {
   "cell_type": "markdown",
   "metadata": {},
   "source": [
    "# This notebook compares the ML sampling predictions with ranks determined by Dr. Jeffrey"
   ]
  },
  {
   "cell_type": "code",
   "execution_count": 36,
   "metadata": {},
   "outputs": [
    {
     "name": "stdout",
     "output_type": "stream",
     "text": [
      "The autoreload extension is already loaded. To reload it, use:\n",
      "  %reload_ext autoreload\n"
     ]
    }
   ],
   "source": [
    "from create_model import *\n",
    "%load_ext autoreload\n",
    "%autoreload 2\n"
   ]
  },
  {
   "cell_type": "markdown",
   "metadata": {},
   "source": [
    "# Reads in file containing ranks for each star in cluster"
   ]
  },
  {
   "cell_type": "code",
   "execution_count": 37,
   "metadata": {},
   "outputs": [
    {
     "data": {
      "text/html": [
       "<div>\n",
       "<style scoped>\n",
       "    .dataframe tbody tr th:only-of-type {\n",
       "        vertical-align: middle;\n",
       "    }\n",
       "\n",
       "    .dataframe tbody tr th {\n",
       "        vertical-align: top;\n",
       "    }\n",
       "\n",
       "    .dataframe thead th {\n",
       "        text-align: right;\n",
       "    }\n",
       "</style>\n",
       "<table border=\"1\" class=\"dataframe\">\n",
       "  <thead>\n",
       "    <tr style=\"text-align: right;\">\n",
       "      <th></th>\n",
       "      <th>star</th>\n",
       "      <th>rank</th>\n",
       "    </tr>\n",
       "  </thead>\n",
       "  <tbody>\n",
       "    <tr>\n",
       "      <th>0</th>\n",
       "      <td>2076220554197701504</td>\n",
       "      <td>4</td>\n",
       "    </tr>\n",
       "    <tr>\n",
       "      <th>1</th>\n",
       "      <td>2076220829075672960</td>\n",
       "      <td>4</td>\n",
       "    </tr>\n",
       "    <tr>\n",
       "      <th>2</th>\n",
       "      <td>2076220966514688128</td>\n",
       "      <td>3</td>\n",
       "    </tr>\n",
       "    <tr>\n",
       "      <th>3</th>\n",
       "      <td>2076224784750223232</td>\n",
       "      <td>4</td>\n",
       "    </tr>\n",
       "    <tr>\n",
       "      <th>4</th>\n",
       "      <td>2076227116907912960</td>\n",
       "      <td>4</td>\n",
       "    </tr>\n",
       "    <tr>\n",
       "      <th>...</th>\n",
       "      <td>...</td>\n",
       "      <td>...</td>\n",
       "    </tr>\n",
       "    <tr>\n",
       "      <th>1683</th>\n",
       "      <td>2076616859415037824</td>\n",
       "      <td>3</td>\n",
       "    </tr>\n",
       "    <tr>\n",
       "      <th>1684</th>\n",
       "      <td>2076617276038017664</td>\n",
       "      <td>4</td>\n",
       "    </tr>\n",
       "    <tr>\n",
       "      <th>1685</th>\n",
       "      <td>2076617447828109440</td>\n",
       "      <td>4</td>\n",
       "    </tr>\n",
       "    <tr>\n",
       "      <th>1686</th>\n",
       "      <td>2076617477890443008</td>\n",
       "      <td>2</td>\n",
       "    </tr>\n",
       "    <tr>\n",
       "      <th>1687</th>\n",
       "      <td>2076619028384704000</td>\n",
       "      <td>4</td>\n",
       "    </tr>\n",
       "  </tbody>\n",
       "</table>\n",
       "<p>1688 rows × 2 columns</p>\n",
       "</div>"
      ],
      "text/plain": [
       "                     star  rank\n",
       "0     2076220554197701504     4\n",
       "1     2076220829075672960     4\n",
       "2     2076220966514688128     3\n",
       "3     2076224784750223232     4\n",
       "4     2076227116907912960     4\n",
       "...                   ...   ...\n",
       "1683  2076616859415037824     3\n",
       "1684  2076617276038017664     4\n",
       "1685  2076617447828109440     4\n",
       "1686  2076617477890443008     2\n",
       "1687  2076619028384704000     4\n",
       "\n",
       "[1688 rows x 2 columns]"
      ]
     },
     "execution_count": 37,
     "metadata": {},
     "output_type": "execute_result"
    }
   ],
   "source": [
    "column_names = ['file', 'star', 'rank']\n",
    "rank_6819 = pd.read_csv( '/Users/justycewatson/Desktop/CIERA_files/NGC6819/ngc6819_checkRes_all.txt',sep='\\s+',names=column_names, skiprows=1)\n",
    "rank_6819= rank_6819.drop('file', axis=1)\n",
    "\n",
    "rank_6819\n",
    "\n",
    "# rank 1 - good sampling (chain converges reasonably)\n",
    "# rank 2 - poor sampling (no sampling or highly correlated)\n",
    "# rank 3 - parts of chain seem convergent\n",
    "# rank 4 - flat distribution "
   ]
  },
  {
   "cell_type": "markdown",
   "metadata": {},
   "source": [
    "# Creates df of features and runs new dataset through model to get predictions"
   ]
  },
  {
   "cell_type": "code",
   "execution_count": 51,
   "metadata": {},
   "outputs": [],
   "source": [
    "directory = '/Users/justycewatson/Desktop/CIERA_files/NGC6819/ngc6819_single_resfiles' \n",
    "ngc6819_statistic = create_features(directory)\n",
    "\n",
    "ngc6819_clean, ngc6819_array = prepare_df_for_model(ngc6819_statistic)\n",
    "ngc6819_array\n",
    "\n",
    "pipe = load_model('my_model.pkl')\n",
    "\n",
    "y_pred_6819 = make_preds(pipe,ngc6819_array)"
   ]
  },
  {
   "cell_type": "code",
   "execution_count": 53,
   "metadata": {},
   "outputs": [],
   "source": [
    "rank_6819['star'] = rank_6819['star'].astype('str')\n",
    "ngc6819_statistic['source_id'] = ngc6819_statistic['source_id'].astype('str')"
   ]
  },
  {
   "cell_type": "markdown",
   "metadata": {},
   "source": [
    "# Merges df with ranks and df with ML predictions based on the source ids"
   ]
  },
  {
   "cell_type": "code",
   "execution_count": 54,
   "metadata": {},
   "outputs": [],
   "source": [
    "# ngc6819_statistic['source_id'] = ngc6819_statistic['source_id'].str.extract(r'gaia_(\\d+)_sin2')\n",
    "# this line removes other words in source ids and leaves just the number and is commented out after running once\n",
    "\n",
    "ngc6819_statistic['y_pred'] = y_pred_6819\n",
    "ngc6819_statistic\n",
    "\n",
    "ngc6819_statistic = pd.merge(ngc6819_statistic, rank_6819, left_on='source_id', right_on='star', how='inner')\n",
    "ngc6819_statistic = ngc6819_statistic.drop('star', axis=1)"
   ]
  },
  {
   "cell_type": "markdown",
   "metadata": {},
   "source": [
    "# Plots rank number vs the ML predictions"
   ]
  },
  {
   "cell_type": "code",
   "execution_count": 32,
   "metadata": {},
   "outputs": [],
   "source": [
    "y_pred_good = ngc6819_statistic[ngc6819_statistic['y_pred'] == 'Good']\n",
    "y_pred_bad = ngc6819_statistic[ngc6819_statistic['y_pred'] == 'Bad']"
   ]
  },
  {
   "cell_type": "code",
   "execution_count": 34,
   "metadata": {},
   "outputs": [
    {
     "data": {
      "text/plain": [
       "[<matplotlib.axis.XTick at 0x17ea1f510>,\n",
       " <matplotlib.axis.XTick at 0x17ea1de10>,\n",
       " <matplotlib.axis.XTick at 0x17e905410>,\n",
       " <matplotlib.axis.XTick at 0x17ec65b10>]"
      ]
     },
     "execution_count": 34,
     "metadata": {},
     "output_type": "execute_result"
    },
    {
     "data": {
      "image/png": "[encoded data removed]",
      "text/plain": [
       "<Figure size 1200x500 with 2 Axes>"
      ]
     },
     "metadata": {},
     "output_type": "display_data"
    }
   ],
   "source": [
    "fig, ax = plt.subplots(1, 2, figsize=(12, 5))\n",
    "\n",
    "rank_counts_good = y_pred_good['rank'].value_counts().sort_index()\n",
    "\n",
    "ax[0].bar(rank_counts_good.index, rank_counts_good.values, color='purple', width=0.5, alpha=0.75)\n",
    "ax[0].set_xlabel('Rank')\n",
    "ax[0].set_ylabel('Number of Stars')\n",
    "ax[0].set_title('Rank of Stars (ML Good Label)')\n",
    "ax[0].set_xticks([1, 2, 3, 4]) \n",
    "\n",
    "\n",
    "\n",
    "rank_counts_bad = y_pred_bad['rank'].value_counts().sort_index() \n",
    "\n",
    "ax[1].bar(rank_counts_bad.index, rank_counts_bad.values, color='gold', width=0.5, alpha=0.75)\n",
    "ax[1].set_xlabel('Rank')\n",
    "ax[1].set_ylabel('Number of Stars')\n",
    "ax[1].set_title('Rank of Stars (ML Bad Label)')\n",
    "ax[1].set_xticks([1, 2, 3, 4]) "
   ]
  },
  {
   "cell_type": "code",
   "execution_count": 35,
   "metadata": {},
   "outputs": [
    {
     "data": {
      "image/png": "[encoded data removed]",
      "text/plain": [
       "<Figure size 800x500 with 1 Axes>"
      ]
     },
     "metadata": {},
     "output_type": "display_data"
    }
   ],
   "source": [
    "rank_counts_good = y_pred_good['rank'].value_counts().sort_index()\n",
    "rank_counts_bad = y_pred_bad['rank'].value_counts().sort_index()\n",
    "\n",
    "ranks = [1, 2, 3, 4]\n",
    "good_vals = [rank_counts_good.get(r, 0) for r in ranks]\n",
    "bad_vals = [rank_counts_bad.get(r, 0) for r in ranks]\n",
    "\n",
    "x = np.arange(len(ranks))  # [0, 1, 2, 3]\n",
    "bar_width = 0.4\n",
    "\n",
    "\n",
    "\n",
    "fig, ax = plt.subplots(figsize=(8, 5))\n",
    "\n",
    "ax.bar(x - bar_width/2, good_vals, width=bar_width, color='purple', label='ML Good Label', alpha=0.75)\n",
    "ax.bar(x + bar_width/2, bad_vals, width=bar_width, color='gold', label='ML Bad Label', alpha=0.75)\n",
    "\n",
    "\n",
    "ax.set_xlabel('Rank')\n",
    "ax.set_ylabel('Number of Stars')\n",
    "ax.set_title('Rank of Stars by ML Label')\n",
    "ax.set_xticks(x)\n",
    "ax.set_xticklabels(ranks)\n",
    "ax.legend()\n",
    "\n",
    "plt.tight_layout()\n",
    "plt.show()"
   ]
  },
  {
   "cell_type": "code",
   "execution_count": null,
   "metadata": {},
   "outputs": [],
   "source": []
  }
 ],
 "metadata": {
  "kernelspec": {
   "display_name": "base",
   "language": "python",
   "name": "python3"
  },
  "language_info": {
   "codemirror_mode": {
    "name": "ipython",
    "version": 3
   },
   "file_extension": ".py",
   "mimetype": "text/x-python",
   "name": "python",
   "nbconvert_exporter": "python",
   "pygments_lexer": "ipython3",
   "version": "3.11.5"
  },
  "orig_nbformat": 4
 },
 "nbformat": 4,
 "nbformat_minor": 2
}
